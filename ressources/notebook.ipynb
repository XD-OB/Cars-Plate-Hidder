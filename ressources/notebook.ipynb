{
 "cells": [
  {
   "cell_type": "markdown",
   "id": "governmental-shannon",
   "metadata": {},
   "source": [
    "# License plate removal"
   ]
  },
  {
   "cell_type": "code",
   "execution_count": null,
   "id": "grand-liberia",
   "metadata": {},
   "outputs": [],
   "source": [
    "from matplotlib import pyplot as plt\n",
    "import numpy as np\n",
    "import imutils\n",
    "import cv2"
   ]
  },
  {
   "cell_type": "markdown",
   "id": "continent-utility",
   "metadata": {},
   "source": [
    "## 1. Read and grayscale the image"
   ]
  },
  {
   "cell_type": "code",
   "execution_count": null,
   "id": "julian-element",
   "metadata": {
    "scrolled": true
   },
   "outputs": [],
   "source": [
    "img = cv2.imread('../images/car1.jpg')\n",
    "gray = cv2.cvtColor(img, cv2.COLOR_BGR2GRAY)\n",
    "plt.imshow(cv2.cvtColor(gray, cv2.COLOR_BGR2RGB))"
   ]
  },
  {
   "cell_type": "markdown",
   "id": "welcome-theme",
   "metadata": {},
   "source": [
    "## 2. Apply filter and find edges for localization"
   ]
  },
  {
   "cell_type": "code",
   "execution_count": null,
   "id": "focused-interstate",
   "metadata": {},
   "outputs": [],
   "source": [
    "#Noise reduction\n",
    "bfilter = cv2.bilateralFilter(gray, 11, 17, 17)\n",
    "#Edge detection\n",
    "edged = cv2.Canny(bfilter, 30, 200)\n",
    "plt.imshow(cv2.cvtColor(edged, cv2.COLOR_BGR2RGB))"
   ]
  },
  {
   "cell_type": "markdown",
   "id": "native-louis",
   "metadata": {},
   "source": [
    "## 3. Find and validate Contours"
   ]
  },
  {
   "cell_type": "code",
   "execution_count": null,
   "id": "following-observation",
   "metadata": {},
   "outputs": [],
   "source": [
    "keypts = cv2.findContours(edged.copy(), cv2.RETR_TREE, cv2.CHAIN_APPROX_SIMPLE)\n",
    "contours = imutils.grab_contours(keypts)\n",
    "contours = sorted(contours, key=cv2.contourArea, reverse=True)[:10]"
   ]
  },
  {
   "cell_type": "code",
   "execution_count": null,
   "id": "unexpected-ideal",
   "metadata": {},
   "outputs": [],
   "source": [
    "locations = []\n",
    "for contour in contours:\n",
    "    approx = cv2.approxPolyDP(contour, 10, True)\n",
    "    if len(approx) == 4:\n",
    "        x,y,w,h = cv2.boundingRect(contour)\n",
    "        # The w constrain to remove the vertical lines\n",
    "        if w > 2 * h:\n",
    "            locations.append(approx)"
   ]
  },
  {
   "cell_type": "markdown",
   "id": "heavy-champion",
   "metadata": {},
   "source": [
    "## 4. Show car plate"
   ]
  },
  {
   "cell_type": "code",
   "execution_count": null,
   "id": "chief-manhattan",
   "metadata": {},
   "outputs": [],
   "source": [
    "if (len(locations) > 0):\n",
    "    plate = locations[0]\n",
    "locations"
   ]
  },
  {
   "cell_type": "code",
   "execution_count": null,
   "id": "cutting-liechtenstein",
   "metadata": {},
   "outputs": [],
   "source": [
    "mask = np.zeros(gray.shape, np.uint8)\n",
    "new_image = cv2.drawContours(mask, [plate], 0,255, -1)\n",
    "new_image = cv2.bitwise_and(img, img, mask=mask)"
   ]
  },
  {
   "cell_type": "code",
   "execution_count": null,
   "id": "double-sphere",
   "metadata": {},
   "outputs": [],
   "source": [
    "plt.imshow(cv2.cvtColor(new_image, cv2.COLOR_BGR2RGB))"
   ]
  },
  {
   "cell_type": "markdown",
   "id": "resistant-proposition",
   "metadata": {},
   "source": [
    "## 5. Trait new plate"
   ]
  },
  {
   "cell_type": "code",
   "execution_count": null,
   "id": "dominican-description",
   "metadata": {},
   "outputs": [],
   "source": [
    "# plate\n",
    "img_plate = cv2.imread('../static/plate.png')\n",
    "plt.imshow(cv2.cvtColor(img_plate, cv2.COLOR_BGR2RGB))\n",
    "\n",
    "pts_src = np.array([[img_plate.shape[1],0], [0,0],  [0, img_plate.shape[0]], [img_plate.shape[1], img_plate.shape[0]]])\n",
    "\n",
    "# Calculate Homography\n",
    "h, status = cv2.findHomography(pts_src, plate)"
   ]
  },
  {
   "cell_type": "code",
   "execution_count": null,
   "id": "convertible-beverage",
   "metadata": {
    "scrolled": true
   },
   "outputs": [],
   "source": [
    "# Wrap the source\n",
    "new_plate = cv2.warpPerspective(img_plate, h, (img.shape[1],img.shape[0]))\n",
    "plt.imshow(cv2.cvtColor(new_plate, cv2.COLOR_BGR2RGB))"
   ]
  },
  {
   "cell_type": "markdown",
   "id": "selected-signal",
   "metadata": {},
   "source": [
    "## 6. Put the new plate"
   ]
  },
  {
   "cell_type": "code",
   "execution_count": null,
   "id": "annoying-implementation",
   "metadata": {},
   "outputs": [],
   "source": [
    "# Now create a mask of logo and create its inverse mask also\n",
    "new_plate_gray = cv2.cvtColor(new_plate, cv2.COLOR_BGR2GRAY)\n",
    "ret, mask = cv2.threshold(new_plate_gray, 10, 255, cv2.THRESH_BINARY)\n",
    "mask_inv = cv2.bitwise_not(mask)"
   ]
  },
  {
   "cell_type": "code",
   "execution_count": null,
   "id": "covered-adolescent",
   "metadata": {},
   "outputs": [],
   "source": [
    "# Now black-out the area of the old plate\n",
    "img_bo = cv2.bitwise_and(img ,img, mask=mask_inv)\n",
    "plt.imshow(cv2.cvtColor(img_bo, cv2.COLOR_BGR2RGB))"
   ]
  },
  {
   "cell_type": "code",
   "execution_count": null,
   "id": "spanish-stack",
   "metadata": {},
   "outputs": [],
   "source": [
    "# Merge the images\n",
    "final = cv2.bitwise_or(img_bo, new_plate)"
   ]
  },
  {
   "cell_type": "markdown",
   "id": "afraid-complexity",
   "metadata": {},
   "source": [
    "## FINAL RESULT"
   ]
  },
  {
   "cell_type": "code",
   "execution_count": null,
   "id": "demonstrated-complex",
   "metadata": {},
   "outputs": [],
   "source": [
    "plt.imshow(cv2.cvtColor(final, cv2.COLOR_BGR2RGB))"
   ]
  },
  {
   "cell_type": "code",
   "execution_count": null,
   "id": "binding-geometry",
   "metadata": {},
   "outputs": [],
   "source": []
  }
 ],
 "metadata": {
  "kernelspec": {
   "display_name": "Python 3",
   "language": "python",
   "name": "python3"
  },
  "language_info": {
   "codemirror_mode": {
    "name": "ipython",
    "version": 3
   },
   "file_extension": ".py",
   "mimetype": "text/x-python",
   "name": "python",
   "nbconvert_exporter": "python",
   "pygments_lexer": "ipython3",
   "version": "3.7.7"
  }
 },
 "nbformat": 4,
 "nbformat_minor": 5
}
